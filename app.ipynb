{
 "cells": [
  {
   "cell_type": "code",
   "execution_count": null,
   "metadata": {},
   "outputs": [],
   "source": [
    "from bs4 import BeautifulSoup\n",
    "import requests\n",
    "\n",
    "\n",
    "print('Put some skill that you are not familiar with')\n",
    "unfamiliar_skill = input('>')\n",
    "print(f'Filtering out {unfamiliar_skill}')\n",
    "\n",
    "html_text = requests.get('https://www.timesjobs.com/candidate/job-search.html?searchType=personalizedSearch&from=submit&txtKeywords=python&txtLocation=').text\n",
    "soup = BeautifulSoup(html_text, 'lxml')\n",
    "jobs = soup.find_all('li', class_='clearfix job-bx wht-shd-bx')\n",
    "for job in jobs:\n",
    "    published_date = job.find('span', class_='sim-posted').span.text \n",
    "    if 'few' in published_date:\n",
    "        company_name = job.find('h3', class_= 'joblist-comp-name').text.replace(' ','')\n",
    "        skills = job.find('span', class_='srp-skills').text.replace(' ', '')\n",
    "        more_info = job.header.h2.a['href']\n",
    "        if unfamiliar_skill not in skills:\n",
    "            print(f\"Company Name: {company_name.strip()}\")\n",
    "            print(f\"Required Skills: {skills.strip()}\")\n",
    "            print(f'More Info: {more_info}')\n",
    "            print('')"
   ]
  }
 ],
 "metadata": {
  "kernelspec": {
   "display_name": "Python 3.10.7 64-bit (microsoft store)",
   "language": "python",
   "name": "python3"
  },
  "language_info": {
   "name": "python",
   "version": "3.10.7"
  },
  "orig_nbformat": 4,
  "vscode": {
   "interpreter": {
    "hash": "f12746641761f2581224544eb17234f89156fe92efadcc2bcd2206e0ac7679b8"
   }
  }
 },
 "nbformat": 4,
 "nbformat_minor": 2
}
